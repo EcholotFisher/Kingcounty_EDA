{
 "cells": [
  {
   "cell_type": "markdown",
   "metadata": {},
   "source": [
    "# Model training and testing"
   ]
  },
  {
   "cell_type": "raw",
   "metadata": {},
   "source": [
    "----  Evaluating the model ----\n",
    "                            OLS Regression Results                            \n",
    "==============================================================================\n",
    "Dep. Variable:                  price   R-squared:                       0.536\n",
    "Model:                            OLS   Adj. R-squared:                  0.536\n",
    "Method:                 Least Squares   F-statistic:                     8371.\n",
    "Date:                Mon, 19 Oct 2020   Prob (F-statistic):               0.00\n",
    "Time:                        08:02:48   Log-Likelihood:            -2.0049e+05\n",
    "No. Observations:               14469   AIC:                         4.010e+05\n",
    "Df Residuals:                   14466   BIC:                         4.010e+05\n",
    "Df Model:                           2                                         \n",
    "Covariance Type:            nonrobust                                         \n",
    "===============================================================================\n",
    "                  coef    std err          t      P>|t|      [0.025      0.975]\n",
    "-------------------------------------------------------------------------------\n",
    "const       -6.228e+05   1.64e+04    -37.995      0.000   -6.55e+05   -5.91e+05\n",
    "sqft_living   181.4952      3.495     51.925      0.000     174.644     188.347\n",
    "grade        1.026e+05   2756.554     37.223      0.000    9.72e+04    1.08e+05\n",
    "==============================================================================\n",
    "Omnibus:                    10644.730   Durbin-Watson:                   1.982\n",
    "Prob(Omnibus):                  0.000   Jarque-Bera (JB):           455721.606\n",
    "Skew:                           3.084   Prob(JB):                         0.00\n",
    "Kurtosis:                      29.793   Cond. No.                     1.81e+04\n",
    "==============================================================================\n",
    "\n",
    "Warnings:\n",
    "[1] Standard Errors assume that the covariance matrix of the errors is correctly specified.\n",
    "[2] The condition number is large, 1.81e+04. This might indicate that there are\n",
    "strong multicollinearity or other numerical problems.\n",
    "-------------\n",
    "RMSE on train data: 252021.51736435885\n",
    "RMSE on test data: 247691.58636667047"
   ]
  },
  {
   "cell_type": "raw",
   "metadata": {},
   "source": []
  }
 ],
 "metadata": {
  "kernelspec": {
   "display_name": "Python 3",
   "language": "python",
   "name": "python3"
  },
  "language_info": {
   "codemirror_mode": {
    "name": "ipython",
    "version": 3
   },
   "file_extension": ".py",
   "mimetype": "text/x-python",
   "name": "python",
   "nbconvert_exporter": "python",
   "pygments_lexer": "ipython3",
   "version": "3.8.5"
  }
 },
 "nbformat": 4,
 "nbformat_minor": 4
}
